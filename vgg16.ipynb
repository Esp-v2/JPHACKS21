{
  "nbformat": 4,
  "nbformat_minor": 0,
  "metadata": {
    "colab": {
      "name": "vgg16.ipynb",
      "provenance": []
    },
    "kernelspec": {
      "name": "python3",
      "display_name": "Python 3"
    },
    "language_info": {
      "name": "python"
    },
    "accelerator": "GPU"
  },
  "cells": [
    {
      "cell_type": "code",
      "metadata": {
        "colab": {
          "base_uri": "https://localhost:8080/"
        },
        "id": "PEkvwEU4wdCz",
        "outputId": "71fafff3-5703-48e8-8904-178e14bacb2b"
      },
      "source": [
        "!ps aux\n",
        "!kill -9 <pid>"
      ],
      "execution_count": null,
      "outputs": [
        {
          "output_type": "stream",
          "name": "stdout",
          "text": [
            "USER         PID %CPU %MEM    VSZ   RSS TTY      STAT START   TIME COMMAND\n",
            "root           1  0.0  0.0    992     4 ?        Ss   07:11   0:00 /sbin/docker-\n",
            "root           7  0.1  0.3 340840 51148 ?        Sl   07:11   0:01 /tools/node/b\n",
            "root          17  0.0  0.0  35892  4808 ?        Ss   07:11   0:00 tail -n +0 -F\n",
            "root          40  0.0  0.3 160352 41768 ?        S    07:12   0:00 python3 /usr/\n",
            "root          65  0.1  0.4 193896 60212 ?        Sl   07:12   0:02 /usr/bin/pyth\n",
            "root          66  0.1  0.0 707976  9624 ?        Sl   07:12   0:02 /usr/local/bi\n",
            "root          96  0.3  0.1 128152 16128 ?        Sl   07:12   0:04 /usr/bin/pyth\n",
            "root         158  0.0  0.0  18380   304 ?        S    07:14   0:00 /bin/bash --n\n",
            "root         159  0.0  0.1 2167348 18272 ?       Sl   07:14   0:00 /opt/google/d\n",
            "root         160  0.0  0.0  11604  2176 ?        S    07:14   0:00 grep --color=\n",
            "root         266  0.0  0.3 2548208 44544 ?       Sl   07:15   0:00 /opt/google/d\n",
            "root         338  0.0  0.0  18380  3032 ?        S    07:15   0:00 bash -c tail \n",
            "root         339  0.0  0.0   4572   824 ?        S    07:15   0:00 tail -n +0 -F\n",
            "root         340  0.0  0.0  31740  9720 ?        S    07:15   0:00 python3 /opt/\n",
            "root         645 12.5  0.8 689468 115164 ?       Ssl  07:37   0:01 /usr/bin/pyth\n",
            "root         665  0.2  0.1 127388 14384 ?        Sl   07:37   0:00 /usr/bin/pyth\n",
            "root         690  0.0  0.0  59036  6372 ?        R    07:37   0:00 ps aux\n",
            "/bin/bash: -c: line 0: syntax error near unexpected token `newline'\n",
            "/bin/bash: -c: line 0: `kill -9 <pid>'\n"
          ]
        }
      ]
    },
    {
      "cell_type": "code",
      "metadata": {
        "id": "NX0LZBaq4WQW",
        "colab": {
          "base_uri": "https://localhost:8080/"
        },
        "outputId": "144c1add-d138-4166-88ca-14d67f4a4e18"
      },
      "source": [
        "from google.colab import drive\n",
        "drive.mount('/content/drive')"
      ],
      "execution_count": null,
      "outputs": [
        {
          "output_type": "stream",
          "name": "stdout",
          "text": [
            "Drive already mounted at /content/drive; to attempt to forcibly remount, call drive.mount(\"/content/drive\", force_remount=True).\n"
          ]
        }
      ]
    },
    {
      "cell_type": "code",
      "metadata": {
        "id": "HILSndJ0GgLb"
      },
      "source": [
        "import os\n",
        "import keras\n",
        "from keras.preprocessing.image import ImageDataGenerator\n",
        "from keras.models import Sequential, Model\n",
        "from keras.layers import Input, Dense, Dropout, Activation, Flatten,MaxPooling2D,Conv2D\n",
        "from keras import optimizers\n",
        "from tensorflow.keras.optimizers import RMSprop\n",
        "from tensorflow.keras.optimizers import Adam,SGD"
      ],
      "execution_count": null,
      "outputs": []
    },
    {
      "cell_type": "code",
      "metadata": {
        "id": "MJwRQcxwZk8o"
      },
      "source": [
        "from keras.applications.vgg16 import VGG16"
      ],
      "execution_count": null,
      "outputs": []
    },
    {
      "cell_type": "code",
      "metadata": {
        "id": "qvjc0erFGg_O"
      },
      "source": [
        "classes = ['neutral', 'happy']\n",
        "nb_classes = len(classes)\n",
        "batch_size_for_data_generator = 20\n",
        "\n",
        "base_dir = '/content/drive/MyDrive/jphack/sprit_data'\n",
        "\n",
        "train_dir = base_dir+'/train'\n",
        "valid_dir = base_dir+'/validation'\n",
        "\n",
        "# VGG16用に224x224\n",
        "img_rows, img_cols = 224, 224"
      ],
      "execution_count": null,
      "outputs": []
    },
    {
      "cell_type": "code",
      "metadata": {
        "colab": {
          "base_uri": "https://localhost:8080/"
        },
        "id": "odRaIWQ2RXO7",
        "outputId": "ba389c80-ec34-4418-ab16-0b9925dd9a99"
      },
      "source": [
        "train_datagen = ImageDataGenerator(rescale=1.0 / 255,\n",
        "                                   shear_range=0.2,\n",
        "                                   zoom_range=0.2,\n",
        "                                   horizontal_flip=True)\n",
        "train_generator = train_datagen.flow_from_directory(directory=train_dir,\n",
        "                                                    target_size=(img_rows, img_cols),\n",
        "                                                    color_mode='rgb',\n",
        "                                                    classes=classes,\n",
        "                                                    class_mode='categorical',\n",
        "                                                    batch_size=32,\n",
        "                                                    shuffle=True)"
      ],
      "execution_count": null,
      "outputs": [
        {
          "output_type": "stream",
          "name": "stdout",
          "text": [
            "Found 3199 images belonging to 2 classes.\n"
          ]
        }
      ]
    },
    {
      "cell_type": "code",
      "metadata": {
        "colab": {
          "base_uri": "https://localhost:8080/"
        },
        "id": "qIuqZ2brRad7",
        "outputId": "0f9d5a70-11cb-454d-858d-048293901957"
      },
      "source": [
        "test_datagen = ImageDataGenerator(rescale=1.0 / 255)\n",
        "valid_generator = test_datagen.flow_from_directory(directory=valid_dir,\n",
        "                                                   target_size=(img_rows, img_cols),\n",
        "                                                   color_mode='rgb',\n",
        "                                                   classes=classes,\n",
        "                                                   class_mode='categorical',\n",
        "                                                   batch_size=32,\n",
        "                                                   shuffle=True)"
      ],
      "execution_count": null,
      "outputs": [
        {
          "output_type": "stream",
          "name": "stdout",
          "text": [
            "Found 801 images belonging to 2 classes.\n"
          ]
        }
      ]
    },
    {
      "cell_type": "code",
      "metadata": {
        "id": "_og3KSXDUZo_",
        "colab": {
          "base_uri": "https://localhost:8080/"
        },
        "outputId": "4a6d5420-e085-4734-b5d8-48bf89c5d49e"
      },
      "source": [
        "input_tensor = Input(shape=(224, 224, 3))\n",
        "vgg16_model = VGG16(include_top=False, weights='imagenet', input_tensor=input_tensor)\n",
        "\n",
        "top_model = Sequential()\n",
        "top_model.add(Flatten(input_shape=vgg16_model.output_shape[1:]))\n",
        "top_model.add(Dense(256, activation='relu'))\n",
        "top_model.add(Dropout(0.5))\n",
        "top_model.add(Dense(nb_classes, activation='sigmoid'))"
      ],
      "execution_count": null,
      "outputs": [
        {
          "output_type": "stream",
          "name": "stdout",
          "text": [
            "Downloading data from https://storage.googleapis.com/tensorflow/keras-applications/vgg16/vgg16_weights_tf_dim_ordering_tf_kernels_notop.h5\n",
            "58892288/58889256 [==============================] - 2s 0us/step\n",
            "58900480/58889256 [==============================] - 2s 0us/step\n"
          ]
        }
      ]
    },
    {
      "cell_type": "code",
      "metadata": {
        "id": "tuOXuuhRlVx0"
      },
      "source": [
        "model = Model(vgg16_model.input, top_model(vgg16_model.output))"
      ],
      "execution_count": null,
      "outputs": []
    },
    {
      "cell_type": "code",
      "metadata": {
        "colab": {
          "base_uri": "https://localhost:8080/"
        },
        "id": "t2zG2lAnsY4H",
        "outputId": "df2eb2b2-e757-4cc0-8c94-e9e85c9d3533"
      },
      "source": [
        "model.summary()"
      ],
      "execution_count": null,
      "outputs": [
        {
          "output_type": "stream",
          "name": "stdout",
          "text": [
            "Model: \"model\"\n",
            "_________________________________________________________________\n",
            "Layer (type)                 Output Shape              Param #   \n",
            "=================================================================\n",
            "input_1 (InputLayer)         [(None, 224, 224, 3)]     0         \n",
            "_________________________________________________________________\n",
            "block1_conv1 (Conv2D)        (None, 224, 224, 64)      1792      \n",
            "_________________________________________________________________\n",
            "block1_conv2 (Conv2D)        (None, 224, 224, 64)      36928     \n",
            "_________________________________________________________________\n",
            "block1_pool (MaxPooling2D)   (None, 112, 112, 64)      0         \n",
            "_________________________________________________________________\n",
            "block2_conv1 (Conv2D)        (None, 112, 112, 128)     73856     \n",
            "_________________________________________________________________\n",
            "block2_conv2 (Conv2D)        (None, 112, 112, 128)     147584    \n",
            "_________________________________________________________________\n",
            "block2_pool (MaxPooling2D)   (None, 56, 56, 128)       0         \n",
            "_________________________________________________________________\n",
            "block3_conv1 (Conv2D)        (None, 56, 56, 256)       295168    \n",
            "_________________________________________________________________\n",
            "block3_conv2 (Conv2D)        (None, 56, 56, 256)       590080    \n",
            "_________________________________________________________________\n",
            "block3_conv3 (Conv2D)        (None, 56, 56, 256)       590080    \n",
            "_________________________________________________________________\n",
            "block3_pool (MaxPooling2D)   (None, 28, 28, 256)       0         \n",
            "_________________________________________________________________\n",
            "block4_conv1 (Conv2D)        (None, 28, 28, 512)       1180160   \n",
            "_________________________________________________________________\n",
            "block4_conv2 (Conv2D)        (None, 28, 28, 512)       2359808   \n",
            "_________________________________________________________________\n",
            "block4_conv3 (Conv2D)        (None, 28, 28, 512)       2359808   \n",
            "_________________________________________________________________\n",
            "block4_pool (MaxPooling2D)   (None, 14, 14, 512)       0         \n",
            "_________________________________________________________________\n",
            "block5_conv1 (Conv2D)        (None, 14, 14, 512)       2359808   \n",
            "_________________________________________________________________\n",
            "block5_conv2 (Conv2D)        (None, 14, 14, 512)       2359808   \n",
            "_________________________________________________________________\n",
            "block5_conv3 (Conv2D)        (None, 14, 14, 512)       2359808   \n",
            "_________________________________________________________________\n",
            "block5_pool (MaxPooling2D)   (None, 7, 7, 512)         0         \n",
            "_________________________________________________________________\n",
            "sequential (Sequential)      (None, 2)                 6423298   \n",
            "=================================================================\n",
            "Total params: 21,137,986\n",
            "Trainable params: 21,137,986\n",
            "Non-trainable params: 0\n",
            "_________________________________________________________________\n"
          ]
        }
      ]
    },
    {
      "cell_type": "code",
      "metadata": {
        "colab": {
          "base_uri": "https://localhost:8080/"
        },
        "id": "-_NO2nEkuDDn",
        "outputId": "471ca1d0-e22c-4508-d50f-a3714fc56246"
      },
      "source": [
        "# layerを表示\n",
        "for i in range(len(model.layers)):\n",
        "    print(i, model.layers[i])"
      ],
      "execution_count": null,
      "outputs": [
        {
          "output_type": "stream",
          "name": "stdout",
          "text": [
            "0 <keras.engine.input_layer.InputLayer object at 0x7f6488f8ba90>\n",
            "1 <keras.layers.convolutional.Conv2D object at 0x7f6488f8ba10>\n",
            "2 <keras.layers.convolutional.Conv2D object at 0x7f6489ffc850>\n",
            "3 <keras.layers.pooling.MaxPooling2D object at 0x7f6489eec150>\n",
            "4 <keras.layers.convolutional.Conv2D object at 0x7f6489c8c890>\n",
            "5 <keras.layers.convolutional.Conv2D object at 0x7f6489c94e90>\n",
            "6 <keras.layers.pooling.MaxPooling2D object at 0x7f6489c9cfd0>\n",
            "7 <keras.layers.convolutional.Conv2D object at 0x7f6489c94190>\n",
            "8 <keras.layers.convolutional.Conv2D object at 0x7f6489ca5690>\n",
            "9 <keras.layers.convolutional.Conv2D object at 0x7f6489c2e8d0>\n",
            "10 <keras.layers.pooling.MaxPooling2D object at 0x7f6489c32c50>\n",
            "11 <keras.layers.convolutional.Conv2D object at 0x7f6489ca7590>\n",
            "12 <keras.layers.convolutional.Conv2D object at 0x7f6489c3c050>\n",
            "13 <keras.layers.convolutional.Conv2D object at 0x7f6489c41190>\n",
            "14 <keras.layers.pooling.MaxPooling2D object at 0x7f6489c3c150>\n",
            "15 <keras.layers.convolutional.Conv2D object at 0x7f6489c48c90>\n",
            "16 <keras.layers.convolutional.Conv2D object at 0x7f6489c51890>\n",
            "17 <keras.layers.convolutional.Conv2D object at 0x7f6489c56d50>\n",
            "18 <keras.layers.pooling.MaxPooling2D object at 0x7f6489c942d0>\n",
            "19 <keras.engine.sequential.Sequential object at 0x7f648a00e850>\n"
          ]
        }
      ]
    },
    {
      "cell_type": "code",
      "metadata": {
        "id": "TLUXoVnRuGSq"
      },
      "source": [
        "# 最後のconv層の直前までの層をfreeze\n",
        "for layer in model.layers[:15]:\n",
        "    layer.trainable = False"
      ],
      "execution_count": null,
      "outputs": []
    },
    {
      "cell_type": "code",
      "metadata": {
        "colab": {
          "base_uri": "https://localhost:8080/"
        },
        "id": "2M4YKbkWuNl2",
        "outputId": "69fdeec9-4367-4c14-f8f6-fe5d0a106ef8"
      },
      "source": [
        " model.summary()"
      ],
      "execution_count": null,
      "outputs": [
        {
          "output_type": "stream",
          "name": "stdout",
          "text": [
            "Model: \"model\"\n",
            "_________________________________________________________________\n",
            "Layer (type)                 Output Shape              Param #   \n",
            "=================================================================\n",
            "input_1 (InputLayer)         [(None, 224, 224, 3)]     0         \n",
            "_________________________________________________________________\n",
            "block1_conv1 (Conv2D)        (None, 224, 224, 64)      1792      \n",
            "_________________________________________________________________\n",
            "block1_conv2 (Conv2D)        (None, 224, 224, 64)      36928     \n",
            "_________________________________________________________________\n",
            "block1_pool (MaxPooling2D)   (None, 112, 112, 64)      0         \n",
            "_________________________________________________________________\n",
            "block2_conv1 (Conv2D)        (None, 112, 112, 128)     73856     \n",
            "_________________________________________________________________\n",
            "block2_conv2 (Conv2D)        (None, 112, 112, 128)     147584    \n",
            "_________________________________________________________________\n",
            "block2_pool (MaxPooling2D)   (None, 56, 56, 128)       0         \n",
            "_________________________________________________________________\n",
            "block3_conv1 (Conv2D)        (None, 56, 56, 256)       295168    \n",
            "_________________________________________________________________\n",
            "block3_conv2 (Conv2D)        (None, 56, 56, 256)       590080    \n",
            "_________________________________________________________________\n",
            "block3_conv3 (Conv2D)        (None, 56, 56, 256)       590080    \n",
            "_________________________________________________________________\n",
            "block3_pool (MaxPooling2D)   (None, 28, 28, 256)       0         \n",
            "_________________________________________________________________\n",
            "block4_conv1 (Conv2D)        (None, 28, 28, 512)       1180160   \n",
            "_________________________________________________________________\n",
            "block4_conv2 (Conv2D)        (None, 28, 28, 512)       2359808   \n",
            "_________________________________________________________________\n",
            "block4_conv3 (Conv2D)        (None, 28, 28, 512)       2359808   \n",
            "_________________________________________________________________\n",
            "block4_pool (MaxPooling2D)   (None, 14, 14, 512)       0         \n",
            "_________________________________________________________________\n",
            "block5_conv1 (Conv2D)        (None, 14, 14, 512)       2359808   \n",
            "_________________________________________________________________\n",
            "block5_conv2 (Conv2D)        (None, 14, 14, 512)       2359808   \n",
            "_________________________________________________________________\n",
            "block5_conv3 (Conv2D)        (None, 14, 14, 512)       2359808   \n",
            "_________________________________________________________________\n",
            "block5_pool (MaxPooling2D)   (None, 7, 7, 512)         0         \n",
            "_________________________________________________________________\n",
            "sequential (Sequential)      (None, 2)                 6423298   \n",
            "=================================================================\n",
            "Total params: 21,137,986\n",
            "Trainable params: 13,502,722\n",
            "Non-trainable params: 7,635,264\n",
            "_________________________________________________________________\n"
          ]
        }
      ]
    },
    {
      "cell_type": "code",
      "metadata": {
        "colab": {
          "base_uri": "https://localhost:8080/"
        },
        "id": "ZbLcroArub50",
        "outputId": "4932bddd-25a1-4d9b-8646-fff2d9565630"
      },
      "source": [
        "model.compile(loss='categorical_crossentropy',\n",
        "                optimizer=SGD(lr=1e-4, momentum=0.9),\n",
        "                metrics=['acc'])"
      ],
      "execution_count": null,
      "outputs": [
        {
          "output_type": "stream",
          "name": "stderr",
          "text": [
            "/usr/local/lib/python3.7/dist-packages/keras/optimizer_v2/optimizer_v2.py:356: UserWarning: The `lr` argument is deprecated, use `learning_rate` instead.\n",
            "  \"The `lr` argument is deprecated, use `learning_rate` instead.\")\n"
          ]
        }
      ]
    },
    {
      "cell_type": "code",
      "metadata": {
        "colab": {
          "base_uri": "https://localhost:8080/"
        },
        "id": "DQwXZpnHv_rE",
        "outputId": "6d95384b-8602-4507-d88b-9d5c567fa9f6"
      },
      "source": [
        "history = model.fit(train_generator,\n",
        "                    steps_per_epoch=99,\n",
        "                    epochs=25,\n",
        "                    validation_data=valid_generator,\n",
        "                    validation_steps=25,\n",
        "                    verbose=1)"
      ],
      "execution_count": null,
      "outputs": [
        {
          "output_type": "stream",
          "name": "stdout",
          "text": [
            "Epoch 1/25\n",
            "99/99 [==============================] - 2157s 21s/step - loss: 0.7006 - acc: 0.5841 - val_loss: 0.6193 - val_acc: 0.6513\n",
            "Epoch 2/25\n",
            "99/99 [==============================] - 56s 568ms/step - loss: 0.5991 - acc: 0.6786 - val_loss: 0.5630 - val_acc: 0.7175\n",
            "Epoch 3/25\n",
            "99/99 [==============================] - 56s 568ms/step - loss: 0.5449 - acc: 0.7288 - val_loss: 0.4999 - val_acc: 0.7613\n",
            "Epoch 4/25\n",
            "99/99 [==============================] - 56s 568ms/step - loss: 0.5000 - acc: 0.7521 - val_loss: 0.4661 - val_acc: 0.7688\n",
            "Epoch 5/25\n",
            "99/99 [==============================] - 56s 566ms/step - loss: 0.4531 - acc: 0.7837 - val_loss: 0.4221 - val_acc: 0.7837\n",
            "Epoch 6/25\n",
            "99/99 [==============================] - 57s 569ms/step - loss: 0.4242 - acc: 0.7982 - val_loss: 0.3748 - val_acc: 0.8363\n",
            "Epoch 7/25\n",
            "99/99 [==============================] - 56s 565ms/step - loss: 0.3901 - acc: 0.8232 - val_loss: 0.3584 - val_acc: 0.8325\n",
            "Epoch 8/25\n",
            "99/99 [==============================] - 56s 567ms/step - loss: 0.3719 - acc: 0.8336 - val_loss: 0.3598 - val_acc: 0.8338\n",
            "Epoch 9/25\n",
            "99/99 [==============================] - 56s 568ms/step - loss: 0.3505 - acc: 0.8405 - val_loss: 0.3270 - val_acc: 0.8537\n",
            "Epoch 10/25\n",
            "99/99 [==============================] - 56s 569ms/step - loss: 0.3328 - acc: 0.8544 - val_loss: 0.3257 - val_acc: 0.8450\n",
            "Epoch 11/25\n",
            "99/99 [==============================] - 57s 570ms/step - loss: 0.3173 - acc: 0.8617 - val_loss: 0.3020 - val_acc: 0.8587\n",
            "Epoch 12/25\n",
            "99/99 [==============================] - 57s 570ms/step - loss: 0.2982 - acc: 0.8712 - val_loss: 0.2933 - val_acc: 0.8537\n",
            "Epoch 13/25\n",
            "99/99 [==============================] - 56s 565ms/step - loss: 0.2938 - acc: 0.8753 - val_loss: 0.2868 - val_acc: 0.8612\n",
            "Epoch 14/25\n",
            "99/99 [==============================] - 56s 567ms/step - loss: 0.2825 - acc: 0.8794 - val_loss: 0.2797 - val_acc: 0.8712\n",
            "Epoch 15/25\n",
            "99/99 [==============================] - 56s 566ms/step - loss: 0.2820 - acc: 0.8775 - val_loss: 0.2751 - val_acc: 0.8687\n",
            "Epoch 16/25\n",
            "99/99 [==============================] - 56s 565ms/step - loss: 0.2589 - acc: 0.8945 - val_loss: 0.2750 - val_acc: 0.8675\n",
            "Epoch 17/25\n",
            "99/99 [==============================] - 56s 564ms/step - loss: 0.2492 - acc: 0.8971 - val_loss: 0.3085 - val_acc: 0.8575\n",
            "Epoch 18/25\n",
            "99/99 [==============================] - 56s 564ms/step - loss: 0.2434 - acc: 0.8964 - val_loss: 0.2663 - val_acc: 0.8750\n",
            "Epoch 19/25\n",
            "99/99 [==============================] - 56s 566ms/step - loss: 0.2388 - acc: 0.9015 - val_loss: 0.2752 - val_acc: 0.8763\n",
            "Epoch 20/25\n",
            "99/99 [==============================] - 56s 569ms/step - loss: 0.2281 - acc: 0.9062 - val_loss: 0.2901 - val_acc: 0.8788\n",
            "Epoch 21/25\n",
            "99/99 [==============================] - 57s 569ms/step - loss: 0.2239 - acc: 0.9084 - val_loss: 0.2864 - val_acc: 0.8712\n",
            "Epoch 22/25\n",
            "99/99 [==============================] - 56s 565ms/step - loss: 0.2229 - acc: 0.9113 - val_loss: 0.2598 - val_acc: 0.8775\n",
            "Epoch 23/25\n",
            "99/99 [==============================] - 56s 566ms/step - loss: 0.2175 - acc: 0.9138 - val_loss: 0.2543 - val_acc: 0.8850\n",
            "Epoch 24/25\n",
            "99/99 [==============================] - 56s 565ms/step - loss: 0.2158 - acc: 0.9179 - val_loss: 0.2600 - val_acc: 0.8825\n",
            "Epoch 25/25\n",
            "99/99 [==============================] - 56s 567ms/step - loss: 0.2110 - acc: 0.9166 - val_loss: 0.2536 - val_acc: 0.8850\n"
          ]
        }
      ]
    },
    {
      "cell_type": "code",
      "metadata": {
        "id": "qFVmLPHHj9We"
      },
      "source": [
        "hdf5_file = os.path.join(base_dir, 'VGG16data.hdf5')\n",
        "model.save(hdf5_file)"
      ],
      "execution_count": null,
      "outputs": []
    },
    {
      "cell_type": "code",
      "metadata": {
        "id": "wegsvux6kG1I"
      },
      "source": [
        "import matplotlib.pyplot as plt\n",
        "%matplotlib inline"
      ],
      "execution_count": null,
      "outputs": []
    },
    {
      "cell_type": "code",
      "metadata": {
        "id": "R2xMt9ll59ST",
        "colab": {
          "base_uri": "https://localhost:8080/"
        },
        "outputId": "0817bb10-36c4-44d2-fbc6-aad534a14119"
      },
      "source": [
        "print(history.history)"
      ],
      "execution_count": null,
      "outputs": [
        {
          "output_type": "stream",
          "name": "stdout",
          "text": [
            "{'loss': [0.7006461024284363, 0.5991108417510986, 0.5448935627937317, 0.5000405311584473, 0.45312735438346863, 0.4241638481616974, 0.3900797367095947, 0.3719223439693451, 0.3504854440689087, 0.3327614665031433, 0.3173251152038574, 0.29815685749053955, 0.2937752604484558, 0.2825034558773041, 0.28198838233947754, 0.2589486837387085, 0.24919112026691437, 0.24336479604244232, 0.23881183564662933, 0.2281087040901184, 0.22393490374088287, 0.2229209542274475, 0.2174825817346573, 0.21581541001796722, 0.21103408932685852], 'acc': [0.5841490626335144, 0.6785601377487183, 0.7287653684616089, 0.7521313428878784, 0.7837069630622864, 0.7982317805290222, 0.8231765031814575, 0.8335964679718018, 0.8405430912971497, 0.8544363975524902, 0.8616987466812134, 0.8711714744567871, 0.8752762675285339, 0.8793811202049255, 0.8774865865707397, 0.8945373892784119, 0.8970634937286377, 0.8964319825172424, 0.9014840722084045, 0.9062203764915466, 0.9084306955337524, 0.9112725257873535, 0.9138257503509521, 0.9179033637046814, 0.9166403412818909], 'val_loss': [0.6192883849143982, 0.5629842281341553, 0.4999040961265564, 0.46614453196525574, 0.42205706238746643, 0.3748031258583069, 0.35841605067253113, 0.35975781083106995, 0.3270028233528137, 0.3256503939628601, 0.3019784688949585, 0.2933122515678406, 0.286754310131073, 0.2797030210494995, 0.2751038670539856, 0.2750087380409241, 0.3085167109966278, 0.2663177251815796, 0.27516332268714905, 0.29014596343040466, 0.28643903136253357, 0.2597755193710327, 0.2542581260204315, 0.2600002586841583, 0.253562331199646], 'val_acc': [0.6512500047683716, 0.7174999713897705, 0.7612500190734863, 0.768750011920929, 0.7837499976158142, 0.8362500071525574, 0.8324999809265137, 0.8337500095367432, 0.8537499904632568, 0.8450000286102295, 0.8587499856948853, 0.8537499904632568, 0.8612499833106995, 0.8712499737739563, 0.8687499761581421, 0.8675000071525574, 0.8575000166893005, 0.875, 0.8762500286102295, 0.8787500262260437, 0.8712499737739563, 0.8774999976158142, 0.8849999904632568, 0.8824999928474426, 0.8849999904632568]}\n"
          ]
        }
      ]
    },
    {
      "cell_type": "code",
      "metadata": {
        "id": "9udKvs17kHYY",
        "colab": {
          "base_uri": "https://localhost:8080/",
          "height": 545
        },
        "outputId": "a0a5e49f-b060-4c5b-8a38-e9aea4a1a951"
      },
      "source": [
        "acc = history.history['acc']\n",
        "val_acc = history.history['val_acc']\n",
        "loss = history.history['loss']\n",
        "val_loss = history.history['val_loss']\n",
        "\n",
        "epochs = range(len(acc))\n",
        "\n",
        "plt.plot(epochs, acc, 'bo', label='Training acc')\n",
        "plt.plot(epochs, val_acc, 'b', label='Validation acc')\n",
        "plt.title('Training and validation accuracy')\n",
        "plt.legend()\n",
        "\n",
        "plt.figure()\n",
        "\n",
        "plt.plot(epochs, loss, 'bo', label='Training loss')\n",
        "plt.plot(epochs, val_loss, 'b', label='Validation loss')\n",
        "plt.title('Training and validation loss')\n",
        "plt.legend()\n",
        "\n",
        "plt.show()"
      ],
      "execution_count": null,
      "outputs": [
        {
          "output_type": "display_data",
          "data": {
            "image/png": "[encoded data removed]",
            "text/plain": [
              "<Figure size 432x288 with 1 Axes>"
            ]
          },
          "metadata": {
            "needs_background": "light"
          }
        },
        {
          "output_type": "display_data",
          "data": {
            "image/png": "[encoded data removed]",
            "text/plain": [
              "<Figure size 432x288 with 1 Axes>"
            ]
          },
          "metadata": {
            "needs_background": "light"
          }
        }
      ]
    }
  ]
}